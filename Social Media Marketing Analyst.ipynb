{
 "cells": [
  {
   "cell_type": "markdown",
   "id": "4d770c67-b2ae-40f2-9de1-e97eeacee093",
   "metadata": {},
   "source": [
    "## Social Media Marketing Analyst\n",
    "\n",
    "Using the technical fact sheets of one smartphone, I tried some iterative prompt engineering and did the following:\n",
    "\n",
    "1. Generated marketing product description for the smartphone\n",
    "\n",
    "2. Custom product description which has the following:\n",
    "\n",
    "```\n",
    "The description should follow this format:\n",
    "\n",
    "Product Name: <Name of the smartphone>\n",
    "​\n",
    "Description: <Brief Overview of the features>\n",
    "​\n",
    "Product Specifications:\n",
    "<Table with key product feature specifications>\n",
    "​\n",
    "The description should focus on the most important features\n",
    "a customer might look for in a phone including the foldable display screen, processing power, RAM, camera and battery life.\n",
    "​\n",
    "After the description, the table should have the\n",
    "key specifications of the product. It should have two columns.\n",
    "The first column should have 'Feature'\n",
    "and the second column should have 'Specification'\n",
    "and try to put exact numeric values for features if they exist.\n",
    "Only put these features in the table - foldable display screen, processing power, RAM, camera and battery life\n",
    "```\n",
    "\n",
    "3. Custom product description focusing on specific aspects like display, camera and in less than 60 words"
   ]
  },
  {
   "cell_type": "code",
   "execution_count": 1,
   "id": "78f998e1-2601-4fb6-96b2-cc3013962225",
   "metadata": {},
   "outputs": [],
   "source": [
    "import os\n",
    "import yaml\n",
    "with open('chatgpt-api-credentials.yml') as file:\n",
    "    openai_key = yaml.safe_load(file)\n",
    "os.environ['OPENAI_API_KEY'] = openai_key['OPENAI-API-KEY']"
   ]
  },
  {
   "cell_type": "code",
   "execution_count": 6,
   "id": "b618c364-6327-4abc-9901-aada94af29e3",
   "metadata": {},
   "outputs": [],
   "source": [
    "from langchain_core.prompts import ChatPromptTemplate\n",
    "from langchain_openai import ChatOpenAI"
   ]
  },
  {
   "cell_type": "code",
   "execution_count": 3,
   "id": "6efa4236-a009-47fe-84c5-bd19aa62d919",
   "metadata": {},
   "outputs": [],
   "source": [
    "chatgpt = ChatOpenAI(model_name = 'gpt-4o',temperature=0.0)"
   ]
  },
  {
   "cell_type": "code",
   "execution_count": 4,
   "id": "27e72b40-caf4-4021-be69-11131eab729b",
   "metadata": {},
   "outputs": [],
   "source": [
    "fact_sheet_mobile = \"\"\"\n",
    "PRODUCT NAME\n",
    "Samsung Galaxy Z Fold4 5G Black\n",
    "​\n",
    "PRODUCT OVERVIEW\n",
    "Stands out. Stands up. Unfolds.\n",
    "The Galaxy Z Fold4 does a lot in one hand with its 15.73 cm(6.2-inch) Cover Screen.\n",
    "Unfolded, the 19.21 cm(7.6-inch) Main Screen lets you really get into the zone.\n",
    "Pushed-back bezels and the Under Display Camera means there's more screen\n",
    "and no black dot getting between you and the breathtaking Infinity Flex Display.\n",
    "Do more than more with Multi View. Whether toggling between texts or catching up\n",
    "on emails, take full advantage of the expansive Main Screen with Multi View.\n",
    "PC-like power thanks to Qualcomm Snapdragon 8+ Gen 1 processor in your pocket,\n",
    "transforms apps optimized with One UI to give you menus and more in a glance\n",
    "New Taskbar for PC-like multitasking. Wipe out tasks in fewer taps. Add\n",
    "apps to the Taskbar for quick navigation and bouncing between windows when\n",
    "you're in the groove.4 And with App Pair, one tap launches up to three apps,\n",
    "all sharing one super-productive screen\n",
    "Our toughest Samsung Galaxy foldables ever. From the inside out,\n",
    "Galaxy Z Fold4 is made with materials that are not only stunning,\n",
    "but stand up to life's bumps and fumbles. The front and rear panels,\n",
    "made with exclusive Corning Gorilla Glass Victus+, are ready to resist\n",
    "sneaky scrapes and scratches. With our toughest aluminum frame made with\n",
    "Armor Aluminum, this is one durable smartphone.\n",
    "World’s first water resistant foldable smartphones. Be adventurous, rain\n",
    "or shine. You don't have to sweat the forecast when you've got one of the\n",
    "world's first water-resistant foldable smartphones.\n",
    "​\n",
    "PRODUCT SPECS\n",
    "OS - Android 12.0\n",
    "RAM - 12 GB\n",
    "Product Dimensions - 15.5 x 13 x 0.6 cm; 263 Grams\n",
    "Batteries - 2 Lithium Ion batteries required. (included)\n",
    "Item model number - SM-F936BZKDINU_5\n",
    "Wireless communication technologies - Cellular\n",
    "Connectivity technologies - Bluetooth, Wi-Fi, USB, NFC\n",
    "GPS - True\n",
    "Special features - Fast Charging Support, Dual SIM, Wireless Charging, Built-In GPS, Water Resistant\n",
    "Other display features - Wireless\n",
    "Device interface - primary - Touchscreen\n",
    "Resolution - 2176x1812\n",
    "Other camera features - Rear, Front\n",
    "Form factor - Foldable Screen\n",
    "Colour - Phantom Black\n",
    "Battery Power Rating - 4400\n",
    "Whats in the box - SIM Tray Ejector, USB Cable\n",
    "Manufacturer - Samsung India pvt Ltd\n",
    "Country of Origin - China\n",
    "Item Weight - 263 g\n",
    "\"\"\""
   ]
  },
  {
   "cell_type": "code",
   "execution_count": 7,
   "id": "91e5a393-f2fb-4d8d-90c1-d122b088b2c3",
   "metadata": {},
   "outputs": [],
   "source": [
    "prompt_txt = \"\"\"\n",
    "Act as a marketing manager.\n",
    "Your task is to help a marketing team create a\n",
    "description for a retail website advert of a product based\n",
    "on a technical fact sheet specifications for a mobile smartphone\n",
    "​\n",
    "Write a brief product description\n",
    "\n",
    "Technical specifications:\n",
    "{fact_sheet_mobile}\n",
    "\"\"\"\n",
    "chat_template = ChatPromptTemplate.from_template(prompt_txt)"
   ]
  },
  {
   "cell_type": "code",
   "execution_count": 8,
   "id": "a0b62f9f-27ad-41b8-8c02-af13cc84b043",
   "metadata": {},
   "outputs": [],
   "source": [
    "chain = (chat_template\n",
    "            |\n",
    "         chatgpt)\n",
    "response = chain.invoke({\"fact_sheet_mobile\": fact_sheet_mobile})"
   ]
  },
  {
   "cell_type": "code",
   "execution_count": 10,
   "id": "bdca2c5e-ac4b-4266-b73a-55497b2052f9",
   "metadata": {},
   "outputs": [
    {
     "data": {
      "text/markdown": [
       "**Samsung Galaxy Z Fold4 5G Black: Redefine Your Mobile Experience**\n",
       "\n",
       "**Stands Out. Stands Up. Unfolds.**\n",
       "\n",
       "Introducing the Samsung Galaxy Z Fold4 5G in Phantom Black, a revolutionary smartphone that transforms the way you interact with your device. With its sleek, foldable design, this phone offers unparalleled versatility and power, making it the ultimate tool for productivity and entertainment.\n",
       "\n",
       "**Key Features:**\n",
       "\n",
       "- **Dual Screens for Maximum Versatility:** The Galaxy Z Fold4 features a 15.73 cm (6.2-inch) Cover Screen for quick tasks and notifications. Unfold it to reveal a stunning 19.21 cm (7.6-inch) Main Screen, perfect for immersive experiences and multitasking.\n",
       "- **Infinity Flex Display:** Enjoy more screen and fewer distractions with pushed-back bezels and an Under Display Camera, providing a seamless viewing experience.\n",
       "- **Multi View for Enhanced Productivity:** Effortlessly toggle between texts, emails, and apps on the expansive Main Screen. The new Taskbar and App Pair feature allow you to launch up to three apps simultaneously, making multitasking a breeze.\n",
       "- **PC-Like Power:** Powered by the Qualcomm Snapdragon 8+ Gen 1 processor and optimized with One UI, the Galaxy Z Fold4 delivers PC-like performance in your pocket.\n",
       "- **Durable and Resilient:** Built with exclusive Corning Gorilla Glass Victus+ and an Armor Aluminum frame, this is our toughest foldable yet. It’s designed to withstand life's bumps and fumbles.\n",
       "- **Water Resistant:** Be adventurous, rain or shine. The Galaxy Z Fold4 is one of the world’s first water-resistant foldable smartphones, so you don’t have to worry about the weather.\n",
       "\n",
       "**Technical Specifications:**\n",
       "\n",
       "- **Operating System:** Android 12.0\n",
       "- **RAM:** 12 GB\n",
       "- **Dimensions:** 15.5 x 13 x 0.6 cm; 263 Grams\n",
       "- **Battery:** 2 Lithium Ion batteries (included), 4400 mAh\n",
       "- **Connectivity:** Bluetooth, Wi-Fi, USB, NFC, Cellular\n",
       "- **Special Features:** Fast Charging Support, Dual SIM, Wireless Charging, Built-In GPS, Water Resistant\n",
       "- **Display Resolution:** 2176x1812\n",
       "- **Camera:** Rear and Front cameras\n",
       "- **Form Factor:** Foldable Screen\n",
       "- **Color:** Phantom Black\n",
       "- **Weight:** 263 g\n",
       "\n",
       "**What's in the Box:**\n",
       "\n",
       "- SIM Tray Ejector\n",
       "- USB Cable\n",
       "\n",
       "**Manufacturer:** Samsung India Pvt Ltd  \n",
       "**Country of Origin:** China\n",
       "\n",
       "Elevate your mobile experience with the Samsung Galaxy Z Fold4 5G. Whether you’re working, playing, or exploring, this foldable smartphone is designed to keep up with your dynamic lifestyle. Get yours today and unfold the future."
      ],
      "text/plain": [
       "<IPython.core.display.Markdown object>"
      ]
     },
     "metadata": {},
     "output_type": "display_data"
    }
   ],
   "source": [
    "from IPython.display import display, Markdown\n",
    "display(Markdown(response.content))"
   ]
  },
  {
   "cell_type": "code",
   "execution_count": 11,
   "id": "b39875d3-c213-4ee2-8024-e197979d3078",
   "metadata": {},
   "outputs": [],
   "source": [
    "prompt_txt = \"\"\"\n",
    "Act as a marketing manager.\n",
    "Your task is to help a marketing team create a\n",
    "description for a retail website advert of a product based\n",
    "on a technical fact sheet specifications for a mobile smartphone\n",
    "​\n",
    "The description should follow this format:\n",
    "\n",
    "Product Name: <Name of the smartphone>\n",
    "​\n",
    "Description: <Brief Overview of the features>\n",
    "​\n",
    "Product Specifications:\n",
    "<Table with key product feature specifications>\n",
    "​\n",
    "The description should focus on the most important features\n",
    "a customer might look for in a phone including the foldable display screen, processing power, RAM, camera and battery life.\n",
    "​\n",
    "After the description, the table should have the\n",
    "key specifications of the product. It should have two columns.\n",
    "The first column should have 'Feature'\n",
    "and the second column should have 'Specification'\n",
    "and try to put exact numeric values for features if they exist.\n",
    "Only put these features in the table - foldable display screen, processing power, RAM, camera and battery life\n",
    "\n",
    "Technical specifications:\n",
    "{fact_sheet_mobile}\n",
    "\"\"\"\n",
    "chat_template = ChatPromptTemplate.from_template(prompt_txt)"
   ]
  },
  {
   "cell_type": "code",
   "execution_count": 12,
   "id": "a8c350fe-e819-4780-ae86-b02c27919e11",
   "metadata": {},
   "outputs": [],
   "source": [
    "chain = (chat_template\n",
    "            |\n",
    "         chatgpt)\n",
    "response = chain.invoke({\"fact_sheet_mobile\": fact_sheet_mobile})"
   ]
  },
  {
   "cell_type": "code",
   "execution_count": 13,
   "id": "cdca5635-c9a6-4ac0-ad13-8615f9fc63c7",
   "metadata": {},
   "outputs": [
    {
     "data": {
      "text/markdown": [
       "**Product Name:** Samsung Galaxy Z Fold4 5G Black\n",
       "\n",
       "**Description:**\n",
       "Experience the future of mobile technology with the Samsung Galaxy Z Fold4 5G. This innovative smartphone features a stunning foldable display that transforms from a 6.2-inch Cover Screen to a 7.6-inch Main Screen, offering an immersive viewing experience. Powered by the Qualcomm Snapdragon 8+ Gen 1 processor and equipped with 12 GB of RAM, the Galaxy Z Fold4 ensures seamless multitasking and PC-like power in your pocket. Capture every moment with its advanced camera system and enjoy extended usage with its robust battery life. Built with durable materials and water resistance, this smartphone is designed to withstand life's challenges.\n",
       "\n",
       "**Product Specifications:**\n",
       "\n",
       "| **Feature**               | **Specification**                |\n",
       "|---------------------------|----------------------------------|\n",
       "| Foldable Display Screen   | 6.2-inch Cover Screen, 7.6-inch Main Screen |\n",
       "| Processing Power          | Qualcomm Snapdragon 8+ Gen 1    |\n",
       "| RAM                       | 12 GB                            |\n",
       "| Camera                    | Rear, Front                      |\n",
       "| Battery Life              | 4400 mAh                         |\n",
       "\n",
       "Discover the Samsung Galaxy Z Fold4 5G and redefine your mobile experience with cutting-edge technology and unparalleled versatility."
      ],
      "text/plain": [
       "<IPython.core.display.Markdown object>"
      ]
     },
     "metadata": {},
     "output_type": "display_data"
    }
   ],
   "source": [
    "from IPython.display import display, Markdown\n",
    "display(Markdown(response.content))"
   ]
  },
  {
   "cell_type": "code",
   "execution_count": 14,
   "id": "2995f9ee-e847-48df-802e-2dca8b83a2e7",
   "metadata": {},
   "outputs": [],
   "source": [
    "prompt_txt = \"\"\"\n",
    "Act as a marketing manager.\n",
    "Your task is to help a marketing team create a\n",
    "description for a retail website advert of a product based\n",
    "on a technical fact sheet specifications for a mobile smartphone\n",
    "​\n",
    "Write a catchy product description with some emojis,\n",
    "which uses at most 60 words\n",
    "and focuses on the most important things about the smartphone\n",
    "which might matter to users like display and camera\n",
    "\n",
    "Technical specifications:\n",
    "{fact_sheet_mobile}\n",
    "\"\"\"\n",
    "chat_template = ChatPromptTemplate.from_template(prompt_txt)"
   ]
  },
  {
   "cell_type": "code",
   "execution_count": 15,
   "id": "58923e96-7ee7-4e55-892e-ba8aaca0232c",
   "metadata": {},
   "outputs": [],
   "source": [
    "chain = (chat_template\n",
    "            |\n",
    "         chatgpt)\n",
    "response = chain.invoke({\"fact_sheet_mobile\": fact_sheet_mobile})"
   ]
  },
  {
   "cell_type": "code",
   "execution_count": 16,
   "id": "86b0e236-3a57-4328-9f65-52f0a8d99599",
   "metadata": {},
   "outputs": [
    {
     "data": {
      "text/markdown": [
       "📱✨ Unfold the Future with Samsung Galaxy Z Fold4 5G! ✨📱\n",
       "\n",
       "Experience the magic of a 6.2\" Cover Screen and a stunning 7.6\" Main Screen. Capture every moment with the Under Display Camera and enjoy seamless multitasking with PC-like power. Durable, water-resistant, and sleek in Phantom Black. Elevate your mobile experience! 🚀📸💧\n",
       "\n",
       "#SamsungGalaxyZFold4 #FoldableInnovation #TechRevolution"
      ],
      "text/plain": [
       "<IPython.core.display.Markdown object>"
      ]
     },
     "metadata": {},
     "output_type": "display_data"
    }
   ],
   "source": [
    "from IPython.display import display, Markdown\n",
    "display(Markdown(response.content))"
   ]
  }
 ],
 "metadata": {
  "kernelspec": {
   "display_name": "Python 3 (ipykernel)",
   "language": "python",
   "name": "python3"
  },
  "language_info": {
   "codemirror_mode": {
    "name": "ipython",
    "version": 3
   },
   "file_extension": ".py",
   "mimetype": "text/x-python",
   "name": "python",
   "nbconvert_exporter": "python",
   "pygments_lexer": "ipython3",
   "version": "3.12.3"
  }
 },
 "nbformat": 4,
 "nbformat_minor": 5
}
